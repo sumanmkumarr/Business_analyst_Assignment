{
  "nbformat": 4,
  "nbformat_minor": 0,
  "metadata": {
    "colab": {
      "provenance": [],
      "authorship_tag": "ABX9TyOO5HuOEyviMQuGtfP0NU0T",
      "include_colab_link": true
    },
    "kernelspec": {
      "name": "python3",
      "display_name": "Python 3"
    },
    "language_info": {
      "name": "python"
    }
  },
  "cells": [
    {
      "cell_type": "markdown",
      "metadata": {
        "id": "view-in-github",
        "colab_type": "text"
      },
      "source": [
        "<a href=\"https://colab.research.google.com/github/sumanmkumarr/Business_analyst_Assignment/blob/main/Jar_Business_Analysis_Assignment.ipynb\" target=\"_parent\"><img src=\"https://colab.research.google.com/assets/colab-badge.svg\" alt=\"Open In Colab\"/></a>"
      ]
    },
    {
      "cell_type": "markdown",
      "source": [
        "Question 1 : (30 marks)\n",
        "Sales Analysis"
      ],
      "metadata": {
        "id": "NMUprRphCKM-"
      }
    },
    {
      "cell_type": "code",
      "source": [
        "import pandas as pd\n"
      ],
      "metadata": {
        "id": "VDuhOc8lDKQJ"
      },
      "execution_count": 1,
      "outputs": []
    },
    {
      "cell_type": "code",
      "source": [
        "# reading the files\n",
        "orders = pd.read_csv(\"/content/69FE164A.csv\")\n",
        "order_details = pd.read_csv(\"/content/F8DAD543.csv\")\n",
        "sales_target = pd.read_csv(\"/content/152CF088.csv\")\n"
      ],
      "metadata": {
        "id": "dIIXloiVDZm9"
      },
      "execution_count": 2,
      "outputs": []
    },
    {
      "cell_type": "markdown",
      "source": [
        "Part 1: Sales and Profitability Analysis"
      ],
      "metadata": {
        "id": "WjsKtBQLEeY5"
      }
    },
    {
      "cell_type": "markdown",
      "source": [
        "Merge Orders & Details"
      ],
      "metadata": {
        "id": "g9XxoxqDEkVQ"
      }
    },
    {
      "cell_type": "code",
      "source": [
        "merged = pd.merge(orders, order_details, on='Order ID')"
      ],
      "metadata": {
        "id": "zLY-sNcsEqW9"
      },
      "execution_count": 3,
      "outputs": []
    },
    {
      "cell_type": "markdown",
      "source": [
        "Total Sales per Category"
      ],
      "metadata": {
        "id": "ioYDq5qqFEFn"
      }
    },
    {
      "cell_type": "code",
      "source": [
        "total_sales = merged.groupby('Category')['Amount'].sum()\n",
        "print(total_sales)\n"
      ],
      "metadata": {
        "colab": {
          "base_uri": "https://localhost:8080/"
        },
        "id": "r7gMPPOVFE9D",
        "outputId": "fd95ca06-5d47-4ae9-fd01-72fdad894ecb"
      },
      "execution_count": 4,
      "outputs": [
        {
          "output_type": "stream",
          "name": "stdout",
          "text": [
            "Category\n",
            "Clothing       139054.0\n",
            "Electronics    165267.0\n",
            "Furniture      127181.0\n",
            "Name: Amount, dtype: float64\n"
          ]
        }
      ]
    },
    {
      "cell_type": "markdown",
      "source": [
        "Average Profit per Order & Profit Margin"
      ],
      "metadata": {
        "id": "aThgGd6TFgky"
      }
    },
    {
      "cell_type": "code",
      "source": [
        "merged['Profit Margin'] = merged['Profit'] / merged['Amount'] * 100\n",
        "avg_profit = merged.groupby('Category')['Profit'].mean()\n",
        "total_profit_margin = merged.groupby('Category')['Profit Margin'].mean()\n",
        "\n",
        "print(avg_profit)\n",
        "print(total_profit_margin)\n"
      ],
      "metadata": {
        "colab": {
          "base_uri": "https://localhost:8080/"
        },
        "id": "MNu7G_YJFiYr",
        "outputId": "28028183-fcbf-4e17-d4af-07a7a533c921"
      },
      "execution_count": 5,
      "outputs": [
        {
          "output_type": "stream",
          "name": "stdout",
          "text": [
            "Category\n",
            "Clothing       11.762908\n",
            "Electronics    34.071429\n",
            "Furniture       9.456790\n",
            "Name: Profit, dtype: float64\n",
            "Category\n",
            "Clothing       4.132921\n",
            "Electronics   -0.622928\n",
            "Furniture     -6.788811\n",
            "Name: Profit Margin, dtype: float64\n"
          ]
        }
      ]
    },
    {
      "cell_type": "markdown",
      "source": [
        "Find Best & Worst"
      ],
      "metadata": {
        "id": "HrlqIypFF3qu"
      }
    },
    {
      "cell_type": "code",
      "source": [
        "print(\"Top Performing Category:\", total_sales.idxmax())\n",
        "print(\"Underperforming Category:\", total_sales.idxmin())\n"
      ],
      "metadata": {
        "colab": {
          "base_uri": "https://localhost:8080/"
        },
        "id": "xjIYgdvBF4pg",
        "outputId": "37cc3fb3-b83b-4a2d-e029-d555b0e8b438"
      },
      "execution_count": 6,
      "outputs": [
        {
          "output_type": "stream",
          "name": "stdout",
          "text": [
            "Top Performing Category: Electronics\n",
            "Underperforming Category: Furniture\n"
          ]
        }
      ]
    },
    {
      "cell_type": "markdown",
      "source": [
        "Reasons: High sales = high demand or better pricing. Low = low demand, high costs."
      ],
      "metadata": {
        "id": "_tDQrg91GDzq"
      }
    },
    {
      "cell_type": "markdown",
      "source": [
        "---------------------------------------------"
      ],
      "metadata": {
        "id": "W9ctNdjUGLuO"
      }
    },
    {
      "cell_type": "markdown",
      "source": [
        "Part 2: Target Achievement"
      ],
      "metadata": {
        "id": "zgc_jOegGQUX"
      }
    },
    {
      "cell_type": "code",
      "source": [
        "furniture = sales_target[sales_target['Category'] == 'Furniture']\n",
        "furniture['% Change'] = furniture['Target'].pct_change() * 100\n",
        "print(furniture[['Month of Order Date', '% Change']])\n"
      ],
      "metadata": {
        "colab": {
          "base_uri": "https://localhost:8080/"
        },
        "id": "hMUMpX8TGYa4",
        "outputId": "39dc2865-44a0-44d3-d512-16f9fbca5d18"
      },
      "execution_count": 9,
      "outputs": [
        {
          "output_type": "stream",
          "name": "stdout",
          "text": [
            "   Month of Order Date  % Change\n",
            "0               Apr-18       NaN\n",
            "1               May-18  0.961538\n",
            "2               Jun-18  0.952381\n",
            "3               Jul-18  1.886792\n",
            "4               Aug-18  0.925926\n",
            "5               Sep-18  0.917431\n",
            "6               Oct-18  0.909091\n",
            "7               Nov-18  1.801802\n",
            "8               Dec-18  0.884956\n",
            "9               Jan-19  0.877193\n",
            "10              Feb-19  0.869565\n",
            "11              Mar-19  1.724138\n"
          ]
        },
        {
          "output_type": "stream",
          "name": "stderr",
          "text": [
            "/tmp/ipython-input-9-1627254015.py:2: SettingWithCopyWarning: \n",
            "A value is trying to be set on a copy of a slice from a DataFrame.\n",
            "Try using .loc[row_indexer,col_indexer] = value instead\n",
            "\n",
            "See the caveats in the documentation: https://pandas.pydata.org/pandas-docs/stable/user_guide/indexing.html#returning-a-view-versus-a-copy\n",
            "  furniture['% Change'] = furniture['Target'].pct_change() * 100\n"
          ]
        }
      ]
    },
    {
      "cell_type": "markdown",
      "source": [
        "Regional Insights"
      ],
      "metadata": {
        "id": "hytBwnjiHLbh"
      }
    },
    {
      "cell_type": "code",
      "source": [
        "top_states = orders['State'].value_counts().head(5)\n",
        "print(top_states)\n",
        "\n",
        "top_states_list = top_states.index.tolist()\n",
        "regional = merged[merged['State'].isin(top_states_list)]\n",
        "\n",
        "regional_sales = regional.groupby('State')['Amount'].sum()\n",
        "regional_avg_profit = regional.groupby('State')['Profit'].mean()\n",
        "\n",
        "print(regional_sales)\n",
        "print(regional_avg_profit)\n"
      ],
      "metadata": {
        "colab": {
          "base_uri": "https://localhost:8080/"
        },
        "id": "1TU4uzdxHRVG",
        "outputId": "2f204acd-47ae-4275-9439-4e1e1774d822"
      },
      "execution_count": 10,
      "outputs": [
        {
          "output_type": "stream",
          "name": "stdout",
          "text": [
            "State\n",
            "Madhya Pradesh    101\n",
            "Maharashtra        90\n",
            "Rajasthan          32\n",
            "Gujarat            27\n",
            "Punjab             25\n",
            "Name: count, dtype: int64\n",
            "State\n",
            "Gujarat            21058.0\n",
            "Madhya Pradesh    105140.0\n",
            "Maharashtra        95348.0\n",
            "Punjab             16786.0\n",
            "Rajasthan          21149.0\n",
            "Name: Amount, dtype: float64\n",
            "State\n",
            "Gujarat            5.344828\n",
            "Madhya Pradesh    16.326471\n",
            "Maharashtra       21.296552\n",
            "Punjab           -10.150000\n",
            "Rajasthan         16.986486\n",
            "Name: Profit, dtype: float64\n"
          ]
        }
      ]
    },
    {
      "cell_type": "markdown",
      "source": [
        "--------------------------------------------------"
      ],
      "metadata": {
        "id": "V1atEcpoHjQi"
      }
    },
    {
      "cell_type": "markdown",
      "source": [
        "Q2: Jar App — Good & Bad"
      ],
      "metadata": {
        "id": "wUcOKEzUHk4X"
      }
    },
    {
      "cell_type": "markdown",
      "source": [
        "Good:\n",
        "\n",
        "1.Easy to use\n",
        "\n",
        "2.Small investments (₹10)\n",
        "\n",
        "3.Auto-save money\n",
        "\n",
        "4.Trustworthy (Made in India)\n",
        "\n",
        "5.Nice design\n",
        "\n",
        "=============================\n",
        "\n",
        "Improvements:\n",
        "\n",
        "1.More saving goals\n",
        "\n",
        "2.Better notifications\n",
        "\n",
        "3.Add customer chat support\n",
        "\n",
        "4.More payment options\n",
        "\n",
        "5.Faster withdrawal"
      ],
      "metadata": {
        "id": "sAdw3ndYHmLk"
      }
    },
    {
      "cell_type": "markdown",
      "source": [
        "---------------------------------------"
      ],
      "metadata": {
        "id": "Xp8d04emHrB8"
      }
    },
    {
      "cell_type": "markdown",
      "source": [],
      "metadata": {
        "id": "7HC-s1zQHslD"
      }
    },
    {
      "cell_type": "markdown",
      "source": [
        "============================"
      ],
      "metadata": {
        "id": "klbW9J18ILu3"
      }
    },
    {
      "cell_type": "markdown",
      "source": [
        "Q3: New Business Ideas"
      ],
      "metadata": {
        "id": "tQRWmdGtICBi"
      }
    },
    {
      "cell_type": "markdown",
      "source": [
        "Jar can:\n",
        "\n",
        "1.Offer mutual funds\n",
        "\n",
        "2.Add expense tracking\n",
        "\n",
        "3.Provide loans for users\n",
        "\n",
        "4.Give insurance options\n",
        "\n",
        "5.Teach kids saving"
      ],
      "metadata": {
        "id": "SxmgOSXkINrv"
      }
    },
    {
      "cell_type": "markdown",
      "source": [],
      "metadata": {
        "id": "9QqooXELIflI"
      }
    }
  ]
}